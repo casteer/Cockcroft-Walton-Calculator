{
 "cells": [
  {
   "cell_type": "code",
   "execution_count": 15,
   "metadata": {},
   "outputs": [
    {
     "name": "stdout",
     "output_type": "stream",
     "text": [
      "Basic Cockcroft-Walton Calcs\n",
      "============================\n",
      "Optimum number of CW stages =  10\n",
      "N =  10\n",
      "Ripple =  0.0005499999999999999  V\n",
      "Drop =  0.00715  V\n",
      "Vout =  499.99285  V\n",
      "\n",
      "Safety Calculations\n",
      "============================\n",
      "Energy stored in caps =  0.003125  J\n",
      "Voltage across cap. 25  V\n",
      "Arc current (R_hand = 1kOhm) =  25.0  mA\n",
      "Arc current (R_hand = 100kOhm) =  0.25  mA\n",
      "\n",
      "Iadc =  0.04994933566433566  mA\n"
     ]
    }
   ],
   "source": [
    "#### Notebook for design calculations for a Cockcroft-Walton voltage multiplier HV circuit \n",
    "# Taken from http://blazelabs.com/e-exp15.asp\n",
    "\n",
    "from math import floor, sqrt\n",
    "from numpy import arange \n",
    "\n",
    "Vin  = 5;#V\n",
    "transformer_ratio = 5;#\n",
    "Ein = transformer_ratio*Vin;\n",
    "Eout_desired = 4000;\n",
    "f = 10e6;\n",
    "C = 10e-6;# 0.1uF 1kV capacitors can be found here: http://uk.farnell.com/kemet/c1812x104kdractu/cap-x7r-0-1uf-1kv-1812/dp/2581116\n",
    "\n",
    "Iload=1e-3;\n",
    "\n",
    "def optimal_stages(Eout,Ein):\n",
    "    return floor(sqrt(0.75*Eout/Ein));\n",
    "\n",
    "def ripple(Iload,f,C,N):\n",
    "    return (Iload/(2*f*C))*(N+1)*N;\n",
    "\n",
    "def drop(Iload,f,C,N):\n",
    "    return (Iload/(6*f*C))*(4*N*N*N + 3*N*N - N);\n",
    "\n",
    "def out(Ein,Iload,f,C,N):\n",
    "    return 2*N*Ein - (Iload/(6*f*C))*(4*N*N*N + 3*N*N - N);  \n",
    "\n",
    "N = optimal_stages(Eout_desired,Ein);\n",
    "\n",
    "print(\"Basic Cockcroft-Walton Calcs\");\n",
    "print(\"============================\");\n",
    "print(\"Optimum number of CW stages = \", N);\n",
    "print(\"N = \", N);\n",
    "print(\"Ripple = \", ripple(Iload,f,C,N),\" V\");\n",
    "print(\"Drop = \", drop(Iload,f,C,N),\" V\");\n",
    "print(\"Vout = \", out(Ein,Iload,f,C,N),\" V\");\n",
    "\n",
    "# for N in arange(1,10):\n",
    "\n",
    "\n",
    "print(\"\\nSafety Calculations\");\n",
    "print(\"============================\");\n",
    "print(\"Energy stored in caps = \", Ein*Ein*C*0.5,\" J\");\n",
    "print(\"Voltage across cap.\", Ein,\" V\");\n",
    "print(\"Arc current (R_hand = 1kOhm) = \", 1e3*Ein/1e3,\" mA\");\n",
    "print(\"Arc current (R_hand = 100kOhm) = \", 1e3*Ein/100e3,\" mA\");\n",
    "print(\"\");\n",
    "\n",
    "    \n",
    "# Current through potential divider chain \n",
    "Iadc = out(Ein,Iload,f,C,N)/(10e6+10e3);\n",
    "print(\"Iadc = \", Iadc*1000, \" mA\");"
   ]
  }
 ],
 "metadata": {
  "kernelspec": {
   "display_name": "Python 3",
   "language": "python",
   "name": "python3"
  },
  "language_info": {
   "codemirror_mode": {
    "name": "ipython",
    "version": 3
   },
   "file_extension": ".py",
   "mimetype": "text/x-python",
   "name": "python",
   "nbconvert_exporter": "python",
   "pygments_lexer": "ipython3",
   "version": "3.5.3"
  }
 },
 "nbformat": 4,
 "nbformat_minor": 2
}
